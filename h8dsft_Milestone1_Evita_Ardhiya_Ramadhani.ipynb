{
 "cells": [
  {
   "cell_type": "markdown",
   "metadata": {},
   "source": [
    "# Milestone 1"
   ]
  },
  {
   "cell_type": "markdown",
   "metadata": {},
   "source": [
    "## Notebook Title\n",
    "\n",
    "Nama: `Evita Ardhiiya Ramadhani`, Batch: `11`"
   ]
  },
  {
   "cell_type": "markdown",
   "metadata": {},
   "source": [
    "## Description\n",
    "\n",
    "### Objective\n",
    "\n",
    "- Mampu melakukan hypothesis testing terhadap dataset yang diberikan.\n",
    "- Mampu membuat dashboard interaktif terhadap dataset yang diberikan.\n",
    "- Mampu mempresentasikan hasil visualisasi data dan temuan.\n",
    "\n",
    "### Problem Statement\n",
    "\n",
    "Diberikan dataset Supermarket sales untuk dilakukan ekplorasi data dan hipotesis testing.\n",
    "\n",
    "### URL Dashboard\n",
    "\n",
    "https://evitar-batch11.herokuapp.com/"
   ]
  },
  {
   "cell_type": "markdown",
   "metadata": {},
   "source": [
    "## Import Library"
   ]
  },
  {
   "cell_type": "code",
   "execution_count": 39,
   "metadata": {},
   "outputs": [],
   "source": [
    "# import library yang digunakan\n",
    "import pandas as pd\n",
    "import numpy as np\n",
    "import matplotlib.pyplot as plt\n",
    "import scipy.stats as stats\n",
    "import seaborn as sns"
   ]
  },
  {
   "cell_type": "markdown",
   "metadata": {},
   "source": [
    "## Data Loading"
   ]
  },
  {
   "cell_type": "code",
   "execution_count": 40,
   "metadata": {},
   "outputs": [
    {
     "data": {
      "text/html": [
       "<div>\n",
       "<style scoped>\n",
       "    .dataframe tbody tr th:only-of-type {\n",
       "        vertical-align: middle;\n",
       "    }\n",
       "\n",
       "    .dataframe tbody tr th {\n",
       "        vertical-align: top;\n",
       "    }\n",
       "\n",
       "    .dataframe thead th {\n",
       "        text-align: right;\n",
       "    }\n",
       "</style>\n",
       "<table border=\"1\" class=\"dataframe\">\n",
       "  <thead>\n",
       "    <tr style=\"text-align: right;\">\n",
       "      <th></th>\n",
       "      <th>Unnamed: 0</th>\n",
       "      <th>Invoice ID</th>\n",
       "      <th>Branch</th>\n",
       "      <th>City</th>\n",
       "      <th>Customer type</th>\n",
       "      <th>Gender</th>\n",
       "      <th>Product line</th>\n",
       "      <th>Unit price</th>\n",
       "      <th>Quantity</th>\n",
       "      <th>Tax 5%</th>\n",
       "      <th>Total</th>\n",
       "      <th>Date</th>\n",
       "      <th>Time</th>\n",
       "      <th>Payment</th>\n",
       "      <th>cogs</th>\n",
       "      <th>gross margin percentage</th>\n",
       "      <th>gross income</th>\n",
       "      <th>Rating</th>\n",
       "      <th>income</th>\n",
       "    </tr>\n",
       "  </thead>\n",
       "  <tbody>\n",
       "    <tr>\n",
       "      <th>0</th>\n",
       "      <td>0</td>\n",
       "      <td>750-67-8428</td>\n",
       "      <td>A</td>\n",
       "      <td>Yangon</td>\n",
       "      <td>Member</td>\n",
       "      <td>Female</td>\n",
       "      <td>Health and beauty</td>\n",
       "      <td>74.69</td>\n",
       "      <td>7</td>\n",
       "      <td>26.1415</td>\n",
       "      <td>548.9715</td>\n",
       "      <td>2019-01-05</td>\n",
       "      <td>13:08</td>\n",
       "      <td>Ewallet</td>\n",
       "      <td>522.83</td>\n",
       "      <td>4.761905</td>\n",
       "      <td>26.1415</td>\n",
       "      <td>9.1</td>\n",
       "      <td>522.83</td>\n",
       "    </tr>\n",
       "    <tr>\n",
       "      <th>1</th>\n",
       "      <td>1</td>\n",
       "      <td>226-31-3081</td>\n",
       "      <td>C</td>\n",
       "      <td>Naypyitaw</td>\n",
       "      <td>Normal</td>\n",
       "      <td>Female</td>\n",
       "      <td>Electronic accessories</td>\n",
       "      <td>15.28</td>\n",
       "      <td>5</td>\n",
       "      <td>3.8200</td>\n",
       "      <td>80.2200</td>\n",
       "      <td>2019-03-08</td>\n",
       "      <td>10:29</td>\n",
       "      <td>Cash</td>\n",
       "      <td>76.40</td>\n",
       "      <td>4.761905</td>\n",
       "      <td>3.8200</td>\n",
       "      <td>9.6</td>\n",
       "      <td>76.40</td>\n",
       "    </tr>\n",
       "    <tr>\n",
       "      <th>2</th>\n",
       "      <td>2</td>\n",
       "      <td>631-41-3108</td>\n",
       "      <td>A</td>\n",
       "      <td>Yangon</td>\n",
       "      <td>Normal</td>\n",
       "      <td>Male</td>\n",
       "      <td>Home and lifestyle</td>\n",
       "      <td>46.33</td>\n",
       "      <td>7</td>\n",
       "      <td>16.2155</td>\n",
       "      <td>340.5255</td>\n",
       "      <td>2019-03-03</td>\n",
       "      <td>13:23</td>\n",
       "      <td>Credit card</td>\n",
       "      <td>324.31</td>\n",
       "      <td>4.761905</td>\n",
       "      <td>16.2155</td>\n",
       "      <td>7.4</td>\n",
       "      <td>324.31</td>\n",
       "    </tr>\n",
       "    <tr>\n",
       "      <th>3</th>\n",
       "      <td>3</td>\n",
       "      <td>123-19-1176</td>\n",
       "      <td>A</td>\n",
       "      <td>Yangon</td>\n",
       "      <td>Member</td>\n",
       "      <td>Male</td>\n",
       "      <td>Health and beauty</td>\n",
       "      <td>58.22</td>\n",
       "      <td>8</td>\n",
       "      <td>23.2880</td>\n",
       "      <td>489.0480</td>\n",
       "      <td>2019-01-27</td>\n",
       "      <td>20:33</td>\n",
       "      <td>Ewallet</td>\n",
       "      <td>465.76</td>\n",
       "      <td>4.761905</td>\n",
       "      <td>23.2880</td>\n",
       "      <td>8.4</td>\n",
       "      <td>465.76</td>\n",
       "    </tr>\n",
       "    <tr>\n",
       "      <th>4</th>\n",
       "      <td>4</td>\n",
       "      <td>373-73-7910</td>\n",
       "      <td>A</td>\n",
       "      <td>Yangon</td>\n",
       "      <td>Normal</td>\n",
       "      <td>Male</td>\n",
       "      <td>Sports and travel</td>\n",
       "      <td>86.31</td>\n",
       "      <td>7</td>\n",
       "      <td>30.2085</td>\n",
       "      <td>634.3785</td>\n",
       "      <td>2019-02-08</td>\n",
       "      <td>10:37</td>\n",
       "      <td>Ewallet</td>\n",
       "      <td>604.17</td>\n",
       "      <td>4.761905</td>\n",
       "      <td>30.2085</td>\n",
       "      <td>5.3</td>\n",
       "      <td>604.17</td>\n",
       "    </tr>\n",
       "    <tr>\n",
       "      <th>...</th>\n",
       "      <td>...</td>\n",
       "      <td>...</td>\n",
       "      <td>...</td>\n",
       "      <td>...</td>\n",
       "      <td>...</td>\n",
       "      <td>...</td>\n",
       "      <td>...</td>\n",
       "      <td>...</td>\n",
       "      <td>...</td>\n",
       "      <td>...</td>\n",
       "      <td>...</td>\n",
       "      <td>...</td>\n",
       "      <td>...</td>\n",
       "      <td>...</td>\n",
       "      <td>...</td>\n",
       "      <td>...</td>\n",
       "      <td>...</td>\n",
       "      <td>...</td>\n",
       "      <td>...</td>\n",
       "    </tr>\n",
       "    <tr>\n",
       "      <th>995</th>\n",
       "      <td>995</td>\n",
       "      <td>233-67-5758</td>\n",
       "      <td>C</td>\n",
       "      <td>Naypyitaw</td>\n",
       "      <td>Normal</td>\n",
       "      <td>Male</td>\n",
       "      <td>Health and beauty</td>\n",
       "      <td>40.35</td>\n",
       "      <td>1</td>\n",
       "      <td>2.0175</td>\n",
       "      <td>42.3675</td>\n",
       "      <td>2019-01-29</td>\n",
       "      <td>13:46</td>\n",
       "      <td>Ewallet</td>\n",
       "      <td>40.35</td>\n",
       "      <td>4.761905</td>\n",
       "      <td>2.0175</td>\n",
       "      <td>6.2</td>\n",
       "      <td>40.35</td>\n",
       "    </tr>\n",
       "    <tr>\n",
       "      <th>996</th>\n",
       "      <td>996</td>\n",
       "      <td>303-96-2227</td>\n",
       "      <td>B</td>\n",
       "      <td>Mandalay</td>\n",
       "      <td>Normal</td>\n",
       "      <td>Female</td>\n",
       "      <td>Home and lifestyle</td>\n",
       "      <td>97.38</td>\n",
       "      <td>10</td>\n",
       "      <td>48.6900</td>\n",
       "      <td>1022.4900</td>\n",
       "      <td>2019-03-02</td>\n",
       "      <td>17:16</td>\n",
       "      <td>Ewallet</td>\n",
       "      <td>973.80</td>\n",
       "      <td>4.761905</td>\n",
       "      <td>48.6900</td>\n",
       "      <td>4.4</td>\n",
       "      <td>973.80</td>\n",
       "    </tr>\n",
       "    <tr>\n",
       "      <th>997</th>\n",
       "      <td>997</td>\n",
       "      <td>727-02-1313</td>\n",
       "      <td>A</td>\n",
       "      <td>Yangon</td>\n",
       "      <td>Member</td>\n",
       "      <td>Male</td>\n",
       "      <td>Food and beverages</td>\n",
       "      <td>31.84</td>\n",
       "      <td>1</td>\n",
       "      <td>1.5920</td>\n",
       "      <td>33.4320</td>\n",
       "      <td>2019-02-09</td>\n",
       "      <td>13:22</td>\n",
       "      <td>Cash</td>\n",
       "      <td>31.84</td>\n",
       "      <td>4.761905</td>\n",
       "      <td>1.5920</td>\n",
       "      <td>7.7</td>\n",
       "      <td>31.84</td>\n",
       "    </tr>\n",
       "    <tr>\n",
       "      <th>998</th>\n",
       "      <td>998</td>\n",
       "      <td>347-56-2442</td>\n",
       "      <td>A</td>\n",
       "      <td>Yangon</td>\n",
       "      <td>Normal</td>\n",
       "      <td>Male</td>\n",
       "      <td>Home and lifestyle</td>\n",
       "      <td>65.82</td>\n",
       "      <td>1</td>\n",
       "      <td>3.2910</td>\n",
       "      <td>69.1110</td>\n",
       "      <td>2019-02-22</td>\n",
       "      <td>15:33</td>\n",
       "      <td>Cash</td>\n",
       "      <td>65.82</td>\n",
       "      <td>4.761905</td>\n",
       "      <td>3.2910</td>\n",
       "      <td>4.1</td>\n",
       "      <td>65.82</td>\n",
       "    </tr>\n",
       "    <tr>\n",
       "      <th>999</th>\n",
       "      <td>999</td>\n",
       "      <td>849-09-3807</td>\n",
       "      <td>A</td>\n",
       "      <td>Yangon</td>\n",
       "      <td>Member</td>\n",
       "      <td>Female</td>\n",
       "      <td>Fashion accessories</td>\n",
       "      <td>88.34</td>\n",
       "      <td>7</td>\n",
       "      <td>30.9190</td>\n",
       "      <td>649.2990</td>\n",
       "      <td>2019-02-18</td>\n",
       "      <td>13:28</td>\n",
       "      <td>Cash</td>\n",
       "      <td>618.38</td>\n",
       "      <td>4.761905</td>\n",
       "      <td>30.9190</td>\n",
       "      <td>6.6</td>\n",
       "      <td>618.38</td>\n",
       "    </tr>\n",
       "  </tbody>\n",
       "</table>\n",
       "<p>1000 rows × 19 columns</p>\n",
       "</div>"
      ],
      "text/plain": [
       "     Unnamed: 0   Invoice ID Branch       City Customer type  Gender  \\\n",
       "0             0  750-67-8428      A     Yangon        Member  Female   \n",
       "1             1  226-31-3081      C  Naypyitaw        Normal  Female   \n",
       "2             2  631-41-3108      A     Yangon        Normal    Male   \n",
       "3             3  123-19-1176      A     Yangon        Member    Male   \n",
       "4             4  373-73-7910      A     Yangon        Normal    Male   \n",
       "..          ...          ...    ...        ...           ...     ...   \n",
       "995         995  233-67-5758      C  Naypyitaw        Normal    Male   \n",
       "996         996  303-96-2227      B   Mandalay        Normal  Female   \n",
       "997         997  727-02-1313      A     Yangon        Member    Male   \n",
       "998         998  347-56-2442      A     Yangon        Normal    Male   \n",
       "999         999  849-09-3807      A     Yangon        Member  Female   \n",
       "\n",
       "               Product line  Unit price  Quantity   Tax 5%      Total  \\\n",
       "0         Health and beauty       74.69         7  26.1415   548.9715   \n",
       "1    Electronic accessories       15.28         5   3.8200    80.2200   \n",
       "2        Home and lifestyle       46.33         7  16.2155   340.5255   \n",
       "3         Health and beauty       58.22         8  23.2880   489.0480   \n",
       "4         Sports and travel       86.31         7  30.2085   634.3785   \n",
       "..                      ...         ...       ...      ...        ...   \n",
       "995       Health and beauty       40.35         1   2.0175    42.3675   \n",
       "996      Home and lifestyle       97.38        10  48.6900  1022.4900   \n",
       "997      Food and beverages       31.84         1   1.5920    33.4320   \n",
       "998      Home and lifestyle       65.82         1   3.2910    69.1110   \n",
       "999     Fashion accessories       88.34         7  30.9190   649.2990   \n",
       "\n",
       "           Date   Time      Payment    cogs  gross margin percentage  \\\n",
       "0    2019-01-05  13:08      Ewallet  522.83                 4.761905   \n",
       "1    2019-03-08  10:29         Cash   76.40                 4.761905   \n",
       "2    2019-03-03  13:23  Credit card  324.31                 4.761905   \n",
       "3    2019-01-27  20:33      Ewallet  465.76                 4.761905   \n",
       "4    2019-02-08  10:37      Ewallet  604.17                 4.761905   \n",
       "..          ...    ...          ...     ...                      ...   \n",
       "995  2019-01-29  13:46      Ewallet   40.35                 4.761905   \n",
       "996  2019-03-02  17:16      Ewallet  973.80                 4.761905   \n",
       "997  2019-02-09  13:22         Cash   31.84                 4.761905   \n",
       "998  2019-02-22  15:33         Cash   65.82                 4.761905   \n",
       "999  2019-02-18  13:28         Cash  618.38                 4.761905   \n",
       "\n",
       "     gross income  Rating  income  \n",
       "0         26.1415     9.1  522.83  \n",
       "1          3.8200     9.6   76.40  \n",
       "2         16.2155     7.4  324.31  \n",
       "3         23.2880     8.4  465.76  \n",
       "4         30.2085     5.3  604.17  \n",
       "..            ...     ...     ...  \n",
       "995        2.0175     6.2   40.35  \n",
       "996       48.6900     4.4  973.80  \n",
       "997        1.5920     7.7   31.84  \n",
       "998        3.2910     4.1   65.82  \n",
       "999       30.9190     6.6  618.38  \n",
       "\n",
       "[1000 rows x 19 columns]"
      ]
     },
     "execution_count": 40,
     "metadata": {},
     "output_type": "execute_result"
    }
   ],
   "source": [
    "# Load dataset\n",
    "df = pd.read_csv('supermarket_sales - Sheet1.csv')\n",
    "df"
   ]
  },
  {
   "cell_type": "code",
   "execution_count": 41,
   "metadata": {},
   "outputs": [
    {
     "data": {
      "text/plain": [
       "(1000, 19)"
      ]
     },
     "execution_count": 41,
     "metadata": {},
     "output_type": "execute_result"
    }
   ],
   "source": [
    "# melihat banyak baris dan kolom dataset\n",
    "df.shape"
   ]
  },
  {
   "cell_type": "code",
   "execution_count": 42,
   "metadata": {},
   "outputs": [
    {
     "name": "stdout",
     "output_type": "stream",
     "text": [
      "<class 'pandas.core.frame.DataFrame'>\n",
      "RangeIndex: 1000 entries, 0 to 999\n",
      "Data columns (total 19 columns):\n",
      " #   Column                   Non-Null Count  Dtype  \n",
      "---  ------                   --------------  -----  \n",
      " 0   Unnamed: 0               1000 non-null   int64  \n",
      " 1   Invoice ID               1000 non-null   object \n",
      " 2   Branch                   1000 non-null   object \n",
      " 3   City                     1000 non-null   object \n",
      " 4   Customer type            1000 non-null   object \n",
      " 5   Gender                   1000 non-null   object \n",
      " 6   Product line             1000 non-null   object \n",
      " 7   Unit price               1000 non-null   float64\n",
      " 8   Quantity                 1000 non-null   int64  \n",
      " 9   Tax 5%                   1000 non-null   float64\n",
      " 10  Total                    1000 non-null   float64\n",
      " 11  Date                     1000 non-null   object \n",
      " 12  Time                     1000 non-null   object \n",
      " 13  Payment                  1000 non-null   object \n",
      " 14  cogs                     1000 non-null   float64\n",
      " 15  gross margin percentage  1000 non-null   float64\n",
      " 16  gross income             1000 non-null   float64\n",
      " 17  Rating                   1000 non-null   float64\n",
      " 18  income                   1000 non-null   float64\n",
      "dtypes: float64(8), int64(2), object(9)\n",
      "memory usage: 148.6+ KB\n"
     ]
    }
   ],
   "source": [
    "# melihat tipe data dari kolom dan melihat missing value\n",
    "df.info()"
   ]
  },
  {
   "cell_type": "code",
   "execution_count": 43,
   "metadata": {},
   "outputs": [
    {
     "data": {
      "text/html": [
       "<div>\n",
       "<style scoped>\n",
       "    .dataframe tbody tr th:only-of-type {\n",
       "        vertical-align: middle;\n",
       "    }\n",
       "\n",
       "    .dataframe tbody tr th {\n",
       "        vertical-align: top;\n",
       "    }\n",
       "\n",
       "    .dataframe thead th {\n",
       "        text-align: right;\n",
       "    }\n",
       "</style>\n",
       "<table border=\"1\" class=\"dataframe\">\n",
       "  <thead>\n",
       "    <tr style=\"text-align: right;\">\n",
       "      <th></th>\n",
       "      <th>Unnamed: 0</th>\n",
       "      <th>Unit price</th>\n",
       "      <th>Quantity</th>\n",
       "      <th>Tax 5%</th>\n",
       "      <th>Total</th>\n",
       "      <th>cogs</th>\n",
       "      <th>gross margin percentage</th>\n",
       "      <th>gross income</th>\n",
       "      <th>Rating</th>\n",
       "      <th>income</th>\n",
       "    </tr>\n",
       "  </thead>\n",
       "  <tbody>\n",
       "    <tr>\n",
       "      <th>count</th>\n",
       "      <td>1000.000000</td>\n",
       "      <td>1000.000000</td>\n",
       "      <td>1000.000000</td>\n",
       "      <td>1000.000000</td>\n",
       "      <td>1000.000000</td>\n",
       "      <td>1000.00000</td>\n",
       "      <td>1.000000e+03</td>\n",
       "      <td>1000.000000</td>\n",
       "      <td>1000.00000</td>\n",
       "      <td>1000.00000</td>\n",
       "    </tr>\n",
       "    <tr>\n",
       "      <th>mean</th>\n",
       "      <td>499.500000</td>\n",
       "      <td>55.672130</td>\n",
       "      <td>5.510000</td>\n",
       "      <td>15.379369</td>\n",
       "      <td>322.966749</td>\n",
       "      <td>307.58738</td>\n",
       "      <td>4.761905e+00</td>\n",
       "      <td>15.379369</td>\n",
       "      <td>6.97270</td>\n",
       "      <td>307.58738</td>\n",
       "    </tr>\n",
       "    <tr>\n",
       "      <th>std</th>\n",
       "      <td>288.819436</td>\n",
       "      <td>26.494628</td>\n",
       "      <td>2.923431</td>\n",
       "      <td>11.708825</td>\n",
       "      <td>245.885335</td>\n",
       "      <td>234.17651</td>\n",
       "      <td>6.131498e-14</td>\n",
       "      <td>11.708825</td>\n",
       "      <td>1.71858</td>\n",
       "      <td>234.17651</td>\n",
       "    </tr>\n",
       "    <tr>\n",
       "      <th>min</th>\n",
       "      <td>0.000000</td>\n",
       "      <td>10.080000</td>\n",
       "      <td>1.000000</td>\n",
       "      <td>0.508500</td>\n",
       "      <td>10.678500</td>\n",
       "      <td>10.17000</td>\n",
       "      <td>4.761905e+00</td>\n",
       "      <td>0.508500</td>\n",
       "      <td>4.00000</td>\n",
       "      <td>10.17000</td>\n",
       "    </tr>\n",
       "    <tr>\n",
       "      <th>25%</th>\n",
       "      <td>249.750000</td>\n",
       "      <td>32.875000</td>\n",
       "      <td>3.000000</td>\n",
       "      <td>5.924875</td>\n",
       "      <td>124.422375</td>\n",
       "      <td>118.49750</td>\n",
       "      <td>4.761905e+00</td>\n",
       "      <td>5.924875</td>\n",
       "      <td>5.50000</td>\n",
       "      <td>118.49750</td>\n",
       "    </tr>\n",
       "    <tr>\n",
       "      <th>50%</th>\n",
       "      <td>499.500000</td>\n",
       "      <td>55.230000</td>\n",
       "      <td>5.000000</td>\n",
       "      <td>12.088000</td>\n",
       "      <td>253.848000</td>\n",
       "      <td>241.76000</td>\n",
       "      <td>4.761905e+00</td>\n",
       "      <td>12.088000</td>\n",
       "      <td>7.00000</td>\n",
       "      <td>241.76000</td>\n",
       "    </tr>\n",
       "    <tr>\n",
       "      <th>75%</th>\n",
       "      <td>749.250000</td>\n",
       "      <td>77.935000</td>\n",
       "      <td>8.000000</td>\n",
       "      <td>22.445250</td>\n",
       "      <td>471.350250</td>\n",
       "      <td>448.90500</td>\n",
       "      <td>4.761905e+00</td>\n",
       "      <td>22.445250</td>\n",
       "      <td>8.50000</td>\n",
       "      <td>448.90500</td>\n",
       "    </tr>\n",
       "    <tr>\n",
       "      <th>max</th>\n",
       "      <td>999.000000</td>\n",
       "      <td>99.960000</td>\n",
       "      <td>10.000000</td>\n",
       "      <td>49.650000</td>\n",
       "      <td>1042.650000</td>\n",
       "      <td>993.00000</td>\n",
       "      <td>4.761905e+00</td>\n",
       "      <td>49.650000</td>\n",
       "      <td>10.00000</td>\n",
       "      <td>993.00000</td>\n",
       "    </tr>\n",
       "  </tbody>\n",
       "</table>\n",
       "</div>"
      ],
      "text/plain": [
       "        Unnamed: 0   Unit price     Quantity       Tax 5%        Total  \\\n",
       "count  1000.000000  1000.000000  1000.000000  1000.000000  1000.000000   \n",
       "mean    499.500000    55.672130     5.510000    15.379369   322.966749   \n",
       "std     288.819436    26.494628     2.923431    11.708825   245.885335   \n",
       "min       0.000000    10.080000     1.000000     0.508500    10.678500   \n",
       "25%     249.750000    32.875000     3.000000     5.924875   124.422375   \n",
       "50%     499.500000    55.230000     5.000000    12.088000   253.848000   \n",
       "75%     749.250000    77.935000     8.000000    22.445250   471.350250   \n",
       "max     999.000000    99.960000    10.000000    49.650000  1042.650000   \n",
       "\n",
       "             cogs  gross margin percentage  gross income      Rating  \\\n",
       "count  1000.00000             1.000000e+03   1000.000000  1000.00000   \n",
       "mean    307.58738             4.761905e+00     15.379369     6.97270   \n",
       "std     234.17651             6.131498e-14     11.708825     1.71858   \n",
       "min      10.17000             4.761905e+00      0.508500     4.00000   \n",
       "25%     118.49750             4.761905e+00      5.924875     5.50000   \n",
       "50%     241.76000             4.761905e+00     12.088000     7.00000   \n",
       "75%     448.90500             4.761905e+00     22.445250     8.50000   \n",
       "max     993.00000             4.761905e+00     49.650000    10.00000   \n",
       "\n",
       "           income  \n",
       "count  1000.00000  \n",
       "mean    307.58738  \n",
       "std     234.17651  \n",
       "min      10.17000  \n",
       "25%     118.49750  \n",
       "50%     241.76000  \n",
       "75%     448.90500  \n",
       "max     993.00000  "
      ]
     },
     "execution_count": 43,
     "metadata": {},
     "output_type": "execute_result"
    }
   ],
   "source": [
    "# melihat sebaran statistik secara umum\n",
    "df.describe()"
   ]
  },
  {
   "cell_type": "code",
   "execution_count": 44,
   "metadata": {},
   "outputs": [
    {
     "data": {
      "text/plain": [
       "Fashion accessories       178\n",
       "Food and beverages        174\n",
       "Electronic accessories    170\n",
       "Sports and travel         166\n",
       "Home and lifestyle        160\n",
       "Health and beauty         152\n",
       "Name: Product line, dtype: int64"
      ]
     },
     "execution_count": 44,
     "metadata": {},
     "output_type": "execute_result"
    }
   ],
   "source": [
    "# melihat jumlah setiap kategori dalam kolom Product line\n",
    "df['Product line'].value_counts()"
   ]
  },
  {
   "cell_type": "code",
   "execution_count": 45,
   "metadata": {},
   "outputs": [
    {
     "data": {
      "text/plain": [
       "Gender  Customer type\n",
       "Female  Member           261\n",
       "        Normal           240\n",
       "Male    Member           240\n",
       "        Normal           259\n",
       "Name: Product line, dtype: int64"
      ]
     },
     "execution_count": 45,
     "metadata": {},
     "output_type": "execute_result"
    }
   ],
   "source": [
    "# groupby jumlah product line berdasarkan Gender dan jenis customer\n",
    "df.groupby(['Gender', 'Customer type'])['Product line'].count()"
   ]
  },
  {
   "cell_type": "markdown",
   "metadata": {},
   "source": [
    "## Data cleaning"
   ]
  },
  {
   "cell_type": "markdown",
   "metadata": {},
   "source": [
    "Sebelum melakukan data cleaning, terlebih dahulu mengecek jumlah missing value yang ada."
   ]
  },
  {
   "cell_type": "code",
   "execution_count": 46,
   "metadata": {},
   "outputs": [
    {
     "data": {
      "text/plain": [
       "Unnamed: 0                 0\n",
       "Invoice ID                 0\n",
       "Branch                     0\n",
       "City                       0\n",
       "Customer type              0\n",
       "Gender                     0\n",
       "Product line               0\n",
       "Unit price                 0\n",
       "Quantity                   0\n",
       "Tax 5%                     0\n",
       "Total                      0\n",
       "Date                       0\n",
       "Time                       0\n",
       "Payment                    0\n",
       "cogs                       0\n",
       "gross margin percentage    0\n",
       "gross income               0\n",
       "Rating                     0\n",
       "income                     0\n",
       "dtype: int64"
      ]
     },
     "execution_count": 46,
     "metadata": {},
     "output_type": "execute_result"
    }
   ],
   "source": [
    "# mengecek jumlah missing value tiap kolom\n",
    "df.isnull().sum()"
   ]
  },
  {
   "cell_type": "markdown",
   "metadata": {},
   "source": [
    "Agar lebih meyakinkan pengecekan missing value dilakukan menggunakan try-except-statment untuk menghindari kemungkinan unexpected missing value."
   ]
  },
  {
   "cell_type": "code",
   "execution_count": 47,
   "metadata": {},
   "outputs": [],
   "source": [
    "cnt=0\n",
    "for row in df:\n",
    "    try:\n",
    "        int(row)\n",
    "        df.loc[cnt]=np.nan\n",
    "    except ValueError:\n",
    "        pass\n",
    "    cnt+=1"
   ]
  },
  {
   "cell_type": "code",
   "execution_count": 48,
   "metadata": {},
   "outputs": [
    {
     "data": {
      "text/plain": [
       "Unnamed: 0                 0\n",
       "Invoice ID                 0\n",
       "Branch                     0\n",
       "City                       0\n",
       "Customer type              0\n",
       "Gender                     0\n",
       "Product line               0\n",
       "Unit price                 0\n",
       "Quantity                   0\n",
       "Tax 5%                     0\n",
       "Total                      0\n",
       "Date                       0\n",
       "Time                       0\n",
       "Payment                    0\n",
       "cogs                       0\n",
       "gross margin percentage    0\n",
       "gross income               0\n",
       "Rating                     0\n",
       "income                     0\n",
       "dtype: int64"
      ]
     },
     "execution_count": 48,
     "metadata": {},
     "output_type": "execute_result"
    }
   ],
   "source": [
    "df.isnull().sum()"
   ]
  },
  {
   "cell_type": "markdown",
   "metadata": {},
   "source": [
    "Setelah dicek ternyata dataset tidak memiliki missing value. Data cleaning, done!"
   ]
  },
  {
   "cell_type": "markdown",
   "metadata": {},
   "source": [
    "Menghapus kolom yang tidak diperlukan yaitu Unnamed: 0"
   ]
  },
  {
   "cell_type": "code",
   "execution_count": 49,
   "metadata": {},
   "outputs": [],
   "source": [
    "df.drop(['Unnamed: 0'], inplace=True, axis=1)"
   ]
  },
  {
   "cell_type": "markdown",
   "metadata": {},
   "source": [
    "Melihat persebaran outliner menggunakan boxplot"
   ]
  },
  {
   "cell_type": "code",
   "execution_count": 50,
   "metadata": {},
   "outputs": [
    {
     "data": {
      "image/png": "[encoded data removed]",
      "text/plain": [
       "<Figure size 720x576 with 1 Axes>"
      ]
     },
     "metadata": {
      "needs_background": "light"
     },
     "output_type": "display_data"
    }
   ],
   "source": [
    "df.plot(kind='box', title='Supermarket sales Distribution', figsize=(10,8))\n",
    "plt.show()"
   ]
  },
  {
   "cell_type": "markdown",
   "metadata": {},
   "source": [
    "## Explorasi Data"
   ]
  },
  {
   "cell_type": "markdown",
   "metadata": {},
   "source": [
    "Sebelum melakukan explorasi data, sebaiknya dilakukan copy dataset untuk menghindari perubahan dataset yang asli jika ingin digunakan kembali."
   ]
  },
  {
   "cell_type": "code",
   "execution_count": 51,
   "metadata": {},
   "outputs": [
    {
     "data": {
      "text/html": [
       "<div>\n",
       "<style scoped>\n",
       "    .dataframe tbody tr th:only-of-type {\n",
       "        vertical-align: middle;\n",
       "    }\n",
       "\n",
       "    .dataframe tbody tr th {\n",
       "        vertical-align: top;\n",
       "    }\n",
       "\n",
       "    .dataframe thead th {\n",
       "        text-align: right;\n",
       "    }\n",
       "</style>\n",
       "<table border=\"1\" class=\"dataframe\">\n",
       "  <thead>\n",
       "    <tr style=\"text-align: right;\">\n",
       "      <th></th>\n",
       "      <th>Invoice ID</th>\n",
       "      <th>Branch</th>\n",
       "      <th>City</th>\n",
       "      <th>Customer type</th>\n",
       "      <th>Gender</th>\n",
       "      <th>Product line</th>\n",
       "      <th>Unit price</th>\n",
       "      <th>Quantity</th>\n",
       "      <th>Tax 5%</th>\n",
       "      <th>Total</th>\n",
       "      <th>Date</th>\n",
       "      <th>Time</th>\n",
       "      <th>Payment</th>\n",
       "      <th>cogs</th>\n",
       "      <th>gross margin percentage</th>\n",
       "      <th>gross income</th>\n",
       "      <th>Rating</th>\n",
       "      <th>income</th>\n",
       "    </tr>\n",
       "  </thead>\n",
       "  <tbody>\n",
       "    <tr>\n",
       "      <th>0</th>\n",
       "      <td>750-67-8428</td>\n",
       "      <td>A</td>\n",
       "      <td>Yangon</td>\n",
       "      <td>Member</td>\n",
       "      <td>Female</td>\n",
       "      <td>Health and beauty</td>\n",
       "      <td>74.69</td>\n",
       "      <td>7</td>\n",
       "      <td>26.1415</td>\n",
       "      <td>548.9715</td>\n",
       "      <td>2019-01-05</td>\n",
       "      <td>13:08</td>\n",
       "      <td>Ewallet</td>\n",
       "      <td>522.83</td>\n",
       "      <td>4.761905</td>\n",
       "      <td>26.1415</td>\n",
       "      <td>9.1</td>\n",
       "      <td>522.83</td>\n",
       "    </tr>\n",
       "    <tr>\n",
       "      <th>1</th>\n",
       "      <td>226-31-3081</td>\n",
       "      <td>C</td>\n",
       "      <td>Naypyitaw</td>\n",
       "      <td>Normal</td>\n",
       "      <td>Female</td>\n",
       "      <td>Electronic accessories</td>\n",
       "      <td>15.28</td>\n",
       "      <td>5</td>\n",
       "      <td>3.8200</td>\n",
       "      <td>80.2200</td>\n",
       "      <td>2019-03-08</td>\n",
       "      <td>10:29</td>\n",
       "      <td>Cash</td>\n",
       "      <td>76.40</td>\n",
       "      <td>4.761905</td>\n",
       "      <td>3.8200</td>\n",
       "      <td>9.6</td>\n",
       "      <td>76.40</td>\n",
       "    </tr>\n",
       "    <tr>\n",
       "      <th>2</th>\n",
       "      <td>631-41-3108</td>\n",
       "      <td>A</td>\n",
       "      <td>Yangon</td>\n",
       "      <td>Normal</td>\n",
       "      <td>Male</td>\n",
       "      <td>Home and lifestyle</td>\n",
       "      <td>46.33</td>\n",
       "      <td>7</td>\n",
       "      <td>16.2155</td>\n",
       "      <td>340.5255</td>\n",
       "      <td>2019-03-03</td>\n",
       "      <td>13:23</td>\n",
       "      <td>Credit card</td>\n",
       "      <td>324.31</td>\n",
       "      <td>4.761905</td>\n",
       "      <td>16.2155</td>\n",
       "      <td>7.4</td>\n",
       "      <td>324.31</td>\n",
       "    </tr>\n",
       "    <tr>\n",
       "      <th>3</th>\n",
       "      <td>123-19-1176</td>\n",
       "      <td>A</td>\n",
       "      <td>Yangon</td>\n",
       "      <td>Member</td>\n",
       "      <td>Male</td>\n",
       "      <td>Health and beauty</td>\n",
       "      <td>58.22</td>\n",
       "      <td>8</td>\n",
       "      <td>23.2880</td>\n",
       "      <td>489.0480</td>\n",
       "      <td>2019-01-27</td>\n",
       "      <td>20:33</td>\n",
       "      <td>Ewallet</td>\n",
       "      <td>465.76</td>\n",
       "      <td>4.761905</td>\n",
       "      <td>23.2880</td>\n",
       "      <td>8.4</td>\n",
       "      <td>465.76</td>\n",
       "    </tr>\n",
       "    <tr>\n",
       "      <th>4</th>\n",
       "      <td>373-73-7910</td>\n",
       "      <td>A</td>\n",
       "      <td>Yangon</td>\n",
       "      <td>Normal</td>\n",
       "      <td>Male</td>\n",
       "      <td>Sports and travel</td>\n",
       "      <td>86.31</td>\n",
       "      <td>7</td>\n",
       "      <td>30.2085</td>\n",
       "      <td>634.3785</td>\n",
       "      <td>2019-02-08</td>\n",
       "      <td>10:37</td>\n",
       "      <td>Ewallet</td>\n",
       "      <td>604.17</td>\n",
       "      <td>4.761905</td>\n",
       "      <td>30.2085</td>\n",
       "      <td>5.3</td>\n",
       "      <td>604.17</td>\n",
       "    </tr>\n",
       "  </tbody>\n",
       "</table>\n",
       "</div>"
      ],
      "text/plain": [
       "    Invoice ID Branch       City Customer type  Gender  \\\n",
       "0  750-67-8428      A     Yangon        Member  Female   \n",
       "1  226-31-3081      C  Naypyitaw        Normal  Female   \n",
       "2  631-41-3108      A     Yangon        Normal    Male   \n",
       "3  123-19-1176      A     Yangon        Member    Male   \n",
       "4  373-73-7910      A     Yangon        Normal    Male   \n",
       "\n",
       "             Product line  Unit price  Quantity   Tax 5%     Total  \\\n",
       "0       Health and beauty       74.69         7  26.1415  548.9715   \n",
       "1  Electronic accessories       15.28         5   3.8200   80.2200   \n",
       "2      Home and lifestyle       46.33         7  16.2155  340.5255   \n",
       "3       Health and beauty       58.22         8  23.2880  489.0480   \n",
       "4       Sports and travel       86.31         7  30.2085  634.3785   \n",
       "\n",
       "         Date   Time      Payment    cogs  gross margin percentage  \\\n",
       "0  2019-01-05  13:08      Ewallet  522.83                 4.761905   \n",
       "1  2019-03-08  10:29         Cash   76.40                 4.761905   \n",
       "2  2019-03-03  13:23  Credit card  324.31                 4.761905   \n",
       "3  2019-01-27  20:33      Ewallet  465.76                 4.761905   \n",
       "4  2019-02-08  10:37      Ewallet  604.17                 4.761905   \n",
       "\n",
       "   gross income  Rating  income  \n",
       "0       26.1415     9.1  522.83  \n",
       "1        3.8200     9.6   76.40  \n",
       "2       16.2155     7.4  324.31  \n",
       "3       23.2880     8.4  465.76  \n",
       "4       30.2085     5.3  604.17  "
      ]
     },
     "execution_count": 51,
     "metadata": {},
     "output_type": "execute_result"
    }
   ],
   "source": [
    "# copy dataset\n",
    "data = df.copy()\n",
    "data.head(5)"
   ]
  },
  {
   "cell_type": "markdown",
   "metadata": {},
   "source": [
    "Membuat kolom baru 'income' dari hasil perkalian kolom 'Unit Price' dan 'Quantity'"
   ]
  },
  {
   "cell_type": "code",
   "execution_count": 52,
   "metadata": {},
   "outputs": [
    {
     "data": {
      "text/html": [
       "<div>\n",
       "<style scoped>\n",
       "    .dataframe tbody tr th:only-of-type {\n",
       "        vertical-align: middle;\n",
       "    }\n",
       "\n",
       "    .dataframe tbody tr th {\n",
       "        vertical-align: top;\n",
       "    }\n",
       "\n",
       "    .dataframe thead th {\n",
       "        text-align: right;\n",
       "    }\n",
       "</style>\n",
       "<table border=\"1\" class=\"dataframe\">\n",
       "  <thead>\n",
       "    <tr style=\"text-align: right;\">\n",
       "      <th></th>\n",
       "      <th>Invoice ID</th>\n",
       "      <th>Branch</th>\n",
       "      <th>City</th>\n",
       "      <th>Customer type</th>\n",
       "      <th>Gender</th>\n",
       "      <th>Product line</th>\n",
       "      <th>Unit price</th>\n",
       "      <th>Quantity</th>\n",
       "      <th>Tax 5%</th>\n",
       "      <th>Total</th>\n",
       "      <th>Date</th>\n",
       "      <th>Time</th>\n",
       "      <th>Payment</th>\n",
       "      <th>cogs</th>\n",
       "      <th>gross margin percentage</th>\n",
       "      <th>gross income</th>\n",
       "      <th>Rating</th>\n",
       "      <th>income</th>\n",
       "    </tr>\n",
       "  </thead>\n",
       "  <tbody>\n",
       "    <tr>\n",
       "      <th>0</th>\n",
       "      <td>750-67-8428</td>\n",
       "      <td>A</td>\n",
       "      <td>Yangon</td>\n",
       "      <td>Member</td>\n",
       "      <td>Female</td>\n",
       "      <td>Health and beauty</td>\n",
       "      <td>74.69</td>\n",
       "      <td>7</td>\n",
       "      <td>26.1415</td>\n",
       "      <td>548.9715</td>\n",
       "      <td>2019-01-05</td>\n",
       "      <td>13:08</td>\n",
       "      <td>Ewallet</td>\n",
       "      <td>522.83</td>\n",
       "      <td>4.761905</td>\n",
       "      <td>26.1415</td>\n",
       "      <td>9.1</td>\n",
       "      <td>522.83</td>\n",
       "    </tr>\n",
       "    <tr>\n",
       "      <th>1</th>\n",
       "      <td>226-31-3081</td>\n",
       "      <td>C</td>\n",
       "      <td>Naypyitaw</td>\n",
       "      <td>Normal</td>\n",
       "      <td>Female</td>\n",
       "      <td>Electronic accessories</td>\n",
       "      <td>15.28</td>\n",
       "      <td>5</td>\n",
       "      <td>3.8200</td>\n",
       "      <td>80.2200</td>\n",
       "      <td>2019-03-08</td>\n",
       "      <td>10:29</td>\n",
       "      <td>Cash</td>\n",
       "      <td>76.40</td>\n",
       "      <td>4.761905</td>\n",
       "      <td>3.8200</td>\n",
       "      <td>9.6</td>\n",
       "      <td>76.40</td>\n",
       "    </tr>\n",
       "    <tr>\n",
       "      <th>2</th>\n",
       "      <td>631-41-3108</td>\n",
       "      <td>A</td>\n",
       "      <td>Yangon</td>\n",
       "      <td>Normal</td>\n",
       "      <td>Male</td>\n",
       "      <td>Home and lifestyle</td>\n",
       "      <td>46.33</td>\n",
       "      <td>7</td>\n",
       "      <td>16.2155</td>\n",
       "      <td>340.5255</td>\n",
       "      <td>2019-03-03</td>\n",
       "      <td>13:23</td>\n",
       "      <td>Credit card</td>\n",
       "      <td>324.31</td>\n",
       "      <td>4.761905</td>\n",
       "      <td>16.2155</td>\n",
       "      <td>7.4</td>\n",
       "      <td>324.31</td>\n",
       "    </tr>\n",
       "    <tr>\n",
       "      <th>3</th>\n",
       "      <td>123-19-1176</td>\n",
       "      <td>A</td>\n",
       "      <td>Yangon</td>\n",
       "      <td>Member</td>\n",
       "      <td>Male</td>\n",
       "      <td>Health and beauty</td>\n",
       "      <td>58.22</td>\n",
       "      <td>8</td>\n",
       "      <td>23.2880</td>\n",
       "      <td>489.0480</td>\n",
       "      <td>2019-01-27</td>\n",
       "      <td>20:33</td>\n",
       "      <td>Ewallet</td>\n",
       "      <td>465.76</td>\n",
       "      <td>4.761905</td>\n",
       "      <td>23.2880</td>\n",
       "      <td>8.4</td>\n",
       "      <td>465.76</td>\n",
       "    </tr>\n",
       "    <tr>\n",
       "      <th>4</th>\n",
       "      <td>373-73-7910</td>\n",
       "      <td>A</td>\n",
       "      <td>Yangon</td>\n",
       "      <td>Normal</td>\n",
       "      <td>Male</td>\n",
       "      <td>Sports and travel</td>\n",
       "      <td>86.31</td>\n",
       "      <td>7</td>\n",
       "      <td>30.2085</td>\n",
       "      <td>634.3785</td>\n",
       "      <td>2019-02-08</td>\n",
       "      <td>10:37</td>\n",
       "      <td>Ewallet</td>\n",
       "      <td>604.17</td>\n",
       "      <td>4.761905</td>\n",
       "      <td>30.2085</td>\n",
       "      <td>5.3</td>\n",
       "      <td>604.17</td>\n",
       "    </tr>\n",
       "  </tbody>\n",
       "</table>\n",
       "</div>"
      ],
      "text/plain": [
       "    Invoice ID Branch       City Customer type  Gender  \\\n",
       "0  750-67-8428      A     Yangon        Member  Female   \n",
       "1  226-31-3081      C  Naypyitaw        Normal  Female   \n",
       "2  631-41-3108      A     Yangon        Normal    Male   \n",
       "3  123-19-1176      A     Yangon        Member    Male   \n",
       "4  373-73-7910      A     Yangon        Normal    Male   \n",
       "\n",
       "             Product line  Unit price  Quantity   Tax 5%     Total  \\\n",
       "0       Health and beauty       74.69         7  26.1415  548.9715   \n",
       "1  Electronic accessories       15.28         5   3.8200   80.2200   \n",
       "2      Home and lifestyle       46.33         7  16.2155  340.5255   \n",
       "3       Health and beauty       58.22         8  23.2880  489.0480   \n",
       "4       Sports and travel       86.31         7  30.2085  634.3785   \n",
       "\n",
       "         Date   Time      Payment    cogs  gross margin percentage  \\\n",
       "0  2019-01-05  13:08      Ewallet  522.83                 4.761905   \n",
       "1  2019-03-08  10:29         Cash   76.40                 4.761905   \n",
       "2  2019-03-03  13:23  Credit card  324.31                 4.761905   \n",
       "3  2019-01-27  20:33      Ewallet  465.76                 4.761905   \n",
       "4  2019-02-08  10:37      Ewallet  604.17                 4.761905   \n",
       "\n",
       "   gross income  Rating  income  \n",
       "0       26.1415     9.1  522.83  \n",
       "1        3.8200     9.6   76.40  \n",
       "2       16.2155     7.4  324.31  \n",
       "3       23.2880     8.4  465.76  \n",
       "4       30.2085     5.3  604.17  "
      ]
     },
     "execution_count": 52,
     "metadata": {},
     "output_type": "execute_result"
    }
   ],
   "source": [
    "data['income'] = data['Unit price'] * data['Quantity'] \n",
    "data.head(5)"
   ]
  },
  {
   "cell_type": "markdown",
   "metadata": {},
   "source": [
    "### Visualisasi 1"
   ]
  },
  {
   "cell_type": "markdown",
   "metadata": {},
   "source": [
    "Kita ingin melihat bagaimana fluktuasi pendapatan supermarket dari bulan januari hingga Maret."
   ]
  },
  {
   "cell_type": "code",
   "execution_count": 53,
   "metadata": {},
   "outputs": [],
   "source": [
    "# Mengubah type data Date untuk dijadikan index\n",
    "data['Date'] = data['Date'].astype('datetime64[ns]')"
   ]
  },
  {
   "cell_type": "code",
   "execution_count": 54,
   "metadata": {},
   "outputs": [
    {
     "data": {
      "text/html": [
       "<div>\n",
       "<style scoped>\n",
       "    .dataframe tbody tr th:only-of-type {\n",
       "        vertical-align: middle;\n",
       "    }\n",
       "\n",
       "    .dataframe tbody tr th {\n",
       "        vertical-align: top;\n",
       "    }\n",
       "\n",
       "    .dataframe thead th {\n",
       "        text-align: right;\n",
       "    }\n",
       "</style>\n",
       "<table border=\"1\" class=\"dataframe\">\n",
       "  <thead>\n",
       "    <tr style=\"text-align: right;\">\n",
       "      <th></th>\n",
       "      <th>Unit price</th>\n",
       "      <th>Quantity</th>\n",
       "      <th>Tax 5%</th>\n",
       "      <th>Total</th>\n",
       "      <th>cogs</th>\n",
       "      <th>gross margin percentage</th>\n",
       "      <th>gross income</th>\n",
       "      <th>Rating</th>\n",
       "      <th>income</th>\n",
       "    </tr>\n",
       "    <tr>\n",
       "      <th>Date</th>\n",
       "      <th></th>\n",
       "      <th></th>\n",
       "      <th></th>\n",
       "      <th></th>\n",
       "      <th></th>\n",
       "      <th></th>\n",
       "      <th></th>\n",
       "      <th></th>\n",
       "      <th></th>\n",
       "    </tr>\n",
       "  </thead>\n",
       "  <tbody>\n",
       "    <tr>\n",
       "      <th>2019-01-01</th>\n",
       "      <td>659.95</td>\n",
       "      <td>81</td>\n",
       "      <td>225.9610</td>\n",
       "      <td>4745.1810</td>\n",
       "      <td>4519.22</td>\n",
       "      <td>57.142857</td>\n",
       "      <td>225.9610</td>\n",
       "      <td>79.0</td>\n",
       "      <td>4519.22</td>\n",
       "    </tr>\n",
       "    <tr>\n",
       "      <th>2019-01-02</th>\n",
       "      <td>357.08</td>\n",
       "      <td>48</td>\n",
       "      <td>92.6430</td>\n",
       "      <td>1945.5030</td>\n",
       "      <td>1852.86</td>\n",
       "      <td>38.095238</td>\n",
       "      <td>92.6430</td>\n",
       "      <td>48.4</td>\n",
       "      <td>1852.86</td>\n",
       "    </tr>\n",
       "    <tr>\n",
       "      <th>2019-01-03</th>\n",
       "      <td>475.66</td>\n",
       "      <td>37</td>\n",
       "      <td>98.9585</td>\n",
       "      <td>2078.1285</td>\n",
       "      <td>1979.17</td>\n",
       "      <td>38.095238</td>\n",
       "      <td>98.9585</td>\n",
       "      <td>64.9</td>\n",
       "      <td>1979.17</td>\n",
       "    </tr>\n",
       "    <tr>\n",
       "      <th>2019-01-04</th>\n",
       "      <td>310.46</td>\n",
       "      <td>32</td>\n",
       "      <td>77.3185</td>\n",
       "      <td>1623.6885</td>\n",
       "      <td>1546.37</td>\n",
       "      <td>28.571429</td>\n",
       "      <td>77.3185</td>\n",
       "      <td>39.1</td>\n",
       "      <td>1546.37</td>\n",
       "    </tr>\n",
       "    <tr>\n",
       "      <th>2019-01-05</th>\n",
       "      <td>739.64</td>\n",
       "      <td>55</td>\n",
       "      <td>168.4135</td>\n",
       "      <td>3536.6835</td>\n",
       "      <td>3368.27</td>\n",
       "      <td>57.142857</td>\n",
       "      <td>168.4135</td>\n",
       "      <td>89.2</td>\n",
       "      <td>3368.27</td>\n",
       "    </tr>\n",
       "    <tr>\n",
       "      <th>...</th>\n",
       "      <td>...</td>\n",
       "      <td>...</td>\n",
       "      <td>...</td>\n",
       "      <td>...</td>\n",
       "      <td>...</td>\n",
       "      <td>...</td>\n",
       "      <td>...</td>\n",
       "      <td>...</td>\n",
       "      <td>...</td>\n",
       "    </tr>\n",
       "    <tr>\n",
       "      <th>2019-03-26</th>\n",
       "      <td>558.64</td>\n",
       "      <td>52</td>\n",
       "      <td>93.4530</td>\n",
       "      <td>1962.5130</td>\n",
       "      <td>1869.06</td>\n",
       "      <td>61.904762</td>\n",
       "      <td>93.4530</td>\n",
       "      <td>86.1</td>\n",
       "      <td>1869.06</td>\n",
       "    </tr>\n",
       "    <tr>\n",
       "      <th>2019-03-27</th>\n",
       "      <td>568.41</td>\n",
       "      <td>45</td>\n",
       "      <td>138.2295</td>\n",
       "      <td>2902.8195</td>\n",
       "      <td>2764.59</td>\n",
       "      <td>47.619048</td>\n",
       "      <td>138.2295</td>\n",
       "      <td>67.6</td>\n",
       "      <td>2764.59</td>\n",
       "    </tr>\n",
       "    <tr>\n",
       "      <th>2019-03-28</th>\n",
       "      <td>455.25</td>\n",
       "      <td>48</td>\n",
       "      <td>106.1620</td>\n",
       "      <td>2229.4020</td>\n",
       "      <td>2123.24</td>\n",
       "      <td>47.619048</td>\n",
       "      <td>106.1620</td>\n",
       "      <td>70.5</td>\n",
       "      <td>2123.24</td>\n",
       "    </tr>\n",
       "    <tr>\n",
       "      <th>2019-03-29</th>\n",
       "      <td>530.77</td>\n",
       "      <td>54</td>\n",
       "      <td>191.5830</td>\n",
       "      <td>4023.2430</td>\n",
       "      <td>3831.66</td>\n",
       "      <td>38.095238</td>\n",
       "      <td>191.5830</td>\n",
       "      <td>55.4</td>\n",
       "      <td>3831.66</td>\n",
       "    </tr>\n",
       "    <tr>\n",
       "      <th>2019-03-30</th>\n",
       "      <td>741.49</td>\n",
       "      <td>67</td>\n",
       "      <td>213.6695</td>\n",
       "      <td>4487.0595</td>\n",
       "      <td>4273.39</td>\n",
       "      <td>52.380952</td>\n",
       "      <td>213.6695</td>\n",
       "      <td>74.8</td>\n",
       "      <td>4273.39</td>\n",
       "    </tr>\n",
       "  </tbody>\n",
       "</table>\n",
       "<p>89 rows × 9 columns</p>\n",
       "</div>"
      ],
      "text/plain": [
       "            Unit price  Quantity    Tax 5%      Total     cogs  \\\n",
       "Date                                                             \n",
       "2019-01-01      659.95        81  225.9610  4745.1810  4519.22   \n",
       "2019-01-02      357.08        48   92.6430  1945.5030  1852.86   \n",
       "2019-01-03      475.66        37   98.9585  2078.1285  1979.17   \n",
       "2019-01-04      310.46        32   77.3185  1623.6885  1546.37   \n",
       "2019-01-05      739.64        55  168.4135  3536.6835  3368.27   \n",
       "...                ...       ...       ...        ...      ...   \n",
       "2019-03-26      558.64        52   93.4530  1962.5130  1869.06   \n",
       "2019-03-27      568.41        45  138.2295  2902.8195  2764.59   \n",
       "2019-03-28      455.25        48  106.1620  2229.4020  2123.24   \n",
       "2019-03-29      530.77        54  191.5830  4023.2430  3831.66   \n",
       "2019-03-30      741.49        67  213.6695  4487.0595  4273.39   \n",
       "\n",
       "            gross margin percentage  gross income  Rating   income  \n",
       "Date                                                                \n",
       "2019-01-01                57.142857      225.9610    79.0  4519.22  \n",
       "2019-01-02                38.095238       92.6430    48.4  1852.86  \n",
       "2019-01-03                38.095238       98.9585    64.9  1979.17  \n",
       "2019-01-04                28.571429       77.3185    39.1  1546.37  \n",
       "2019-01-05                57.142857      168.4135    89.2  3368.27  \n",
       "...                             ...           ...     ...      ...  \n",
       "2019-03-26                61.904762       93.4530    86.1  1869.06  \n",
       "2019-03-27                47.619048      138.2295    67.6  2764.59  \n",
       "2019-03-28                47.619048      106.1620    70.5  2123.24  \n",
       "2019-03-29                38.095238      191.5830    55.4  3831.66  \n",
       "2019-03-30                52.380952      213.6695    74.8  4273.39  \n",
       "\n",
       "[89 rows x 9 columns]"
      ]
     },
     "execution_count": 54,
     "metadata": {},
     "output_type": "execute_result"
    }
   ],
   "source": [
    "# Mengatur index date dan di sorting\n",
    "sorted_data = data.sort_values(by='Date', ascending=True).groupby('Date').sum()\n",
    "sorted_data"
   ]
  },
  {
   "cell_type": "code",
   "execution_count": 55,
   "metadata": {},
   "outputs": [
    {
     "data": {
      "image/png": "[encoded data removed]",
      "text/plain": [
       "<Figure size 1368x360 with 1 Axes>"
      ]
     },
     "metadata": {
      "needs_background": "light"
     },
     "output_type": "display_data"
    }
   ],
   "source": [
    "# membuat line chart pendapatan\n",
    "fig, ax = plt.subplots(figsize=(19,5))\n",
    "plt.title('Pendapatan Harian Supermarket')\n",
    "sorted_data['income'].plot(kind='line',ax=ax, color='purple')\n",
    "plt.show()"
   ]
  },
  {
   "cell_type": "code",
   "execution_count": 56,
   "metadata": {},
   "outputs": [
    {
     "name": "stdout",
     "output_type": "stream",
     "text": [
      "7118.14\n",
      "889.75\n"
     ]
    }
   ],
   "source": [
    "print(sorted_data['income'].max())\n",
    "print(sorted_data['income'].min())"
   ]
  },
  {
   "cell_type": "markdown",
   "metadata": {},
   "source": [
    "Dari line chart di atas dapat dilihat bahwa pendapatan supermarket setiap hari mengalami fluktuasi yang beragam. Pendapatan tertinggi di peroleh pada 9 Maret 2019 = 7118.14 dan terendah pada 13 Februari 2019 = 889.75."
   ]
  },
  {
   "cell_type": "markdown",
   "metadata": {},
   "source": [
    "### Visualisasi 2"
   ]
  },
  {
   "cell_type": "markdown",
   "metadata": {},
   "source": [
    "Kita ingin melihat Jumlah product line pada setiap kota."
   ]
  },
  {
   "cell_type": "markdown",
   "metadata": {},
   "source": [
    "Yangon"
   ]
  },
  {
   "cell_type": "code",
   "execution_count": 57,
   "metadata": {},
   "outputs": [
    {
     "data": {
      "image/png": "[encoded data removed]",
      "text/plain": [
       "<Figure size 504x288 with 1 Axes>"
      ]
     },
     "metadata": {
      "needs_background": "light"
     },
     "output_type": "display_data"
    }
   ],
   "source": [
    "# filter City = yangon\n",
    "yangon_product = data[(data['City'] == 'Yangon')]['Product line'].value_counts()\n",
    "\n",
    "# bar plot\n",
    "yangon_product.plot(kind='barh', color='red', figsize=(7,4))\n",
    "plt.title('Jumlah Product line di Yangon')\n",
    "plt.show()"
   ]
  },
  {
   "cell_type": "markdown",
   "metadata": {},
   "source": [
    "Di kota Yangon produk yang paling banyak dibeli adalah Home and lifestyle dan paling sedikit adalah Healt and beauty"
   ]
  },
  {
   "cell_type": "markdown",
   "metadata": {},
   "source": [
    "Mandalay"
   ]
  },
  {
   "cell_type": "code",
   "execution_count": 58,
   "metadata": {},
   "outputs": [
    {
     "data": {
      "image/png": "[encoded data removed]",
      "text/plain": [
       "<Figure size 504x288 with 1 Axes>"
      ]
     },
     "metadata": {
      "needs_background": "light"
     },
     "output_type": "display_data"
    }
   ],
   "source": [
    "# filter City = mandalay\n",
    "mandalay_product = data[(data['City'] == 'Mandalay')]['Product line'].value_counts()\n",
    "\n",
    "# bar plot\n",
    "mandalay_product.plot(kind='barh', color='orange', figsize=(7,4))\n",
    "plt.title('Jumlah Product line di Mandalay')\n",
    "plt.show()"
   ]
  },
  {
   "cell_type": "markdown",
   "metadata": {},
   "source": [
    "Di kota Mandalay ada 2 masing-masing produk yang paling banyak dibeli yaitu Fashion accessories dan Sports and travel, sedangkan yang paling sedikit yaitu Food and beverages dan Home and lifestyle."
   ]
  },
  {
   "cell_type": "markdown",
   "metadata": {},
   "source": [
    "Kota Naypyitaw"
   ]
  },
  {
   "cell_type": "code",
   "execution_count": 59,
   "metadata": {},
   "outputs": [
    {
     "data": {
      "image/png": "[encoded data removed]",
      "text/plain": [
       "<Figure size 504x288 with 1 Axes>"
      ]
     },
     "metadata": {
      "needs_background": "light"
     },
     "output_type": "display_data"
    }
   ],
   "source": [
    "# filter city = naypyitaw\n",
    "naypyitaw_product = data[(data['City'] == 'Naypyitaw')]['Product line'].value_counts()\n",
    "\n",
    "# bar plot\n",
    "naypyitaw_product.plot(kind='barh', color='yellow', figsize=(7,4))\n",
    "plt.title('Jumlah Product line di Naypyitaw')\n",
    "plt.show()"
   ]
  },
  {
   "cell_type": "markdown",
   "metadata": {},
   "source": [
    "Di kota Naypyitaw yang paling banyak di beli adalah Food and beverages sedangkan ada 2 produk yang paling sedikit dibeli yaitu Home and lifestyle dan Sports and travel."
   ]
  },
  {
   "cell_type": "markdown",
   "metadata": {},
   "source": [
    "### Visualisasi 3"
   ]
  },
  {
   "cell_type": "markdown",
   "metadata": {},
   "source": [
    "Kita ingin mengetahui banyak dari quantity dari setiap produk line yang dibeli oleh customer perempuan dan laki-laki. Jadi kita melakukan groupby berdasarkan jumlah gender dan product line."
   ]
  },
  {
   "cell_type": "code",
   "execution_count": 60,
   "metadata": {},
   "outputs": [
    {
     "data": {
      "text/html": [
       "<div>\n",
       "<style scoped>\n",
       "    .dataframe tbody tr th:only-of-type {\n",
       "        vertical-align: middle;\n",
       "    }\n",
       "\n",
       "    .dataframe tbody tr th {\n",
       "        vertical-align: top;\n",
       "    }\n",
       "\n",
       "    .dataframe thead th {\n",
       "        text-align: right;\n",
       "    }\n",
       "</style>\n",
       "<table border=\"1\" class=\"dataframe\">\n",
       "  <thead>\n",
       "    <tr style=\"text-align: right;\">\n",
       "      <th></th>\n",
       "      <th>Gender</th>\n",
       "      <th>Product line</th>\n",
       "      <th>Quantity</th>\n",
       "    </tr>\n",
       "  </thead>\n",
       "  <tbody>\n",
       "    <tr>\n",
       "      <th>0</th>\n",
       "      <td>Female</td>\n",
       "      <td>Electronic accessories</td>\n",
       "      <td>84</td>\n",
       "    </tr>\n",
       "    <tr>\n",
       "      <th>1</th>\n",
       "      <td>Female</td>\n",
       "      <td>Fashion accessories</td>\n",
       "      <td>96</td>\n",
       "    </tr>\n",
       "    <tr>\n",
       "      <th>2</th>\n",
       "      <td>Female</td>\n",
       "      <td>Food and beverages</td>\n",
       "      <td>90</td>\n",
       "    </tr>\n",
       "    <tr>\n",
       "      <th>3</th>\n",
       "      <td>Female</td>\n",
       "      <td>Health and beauty</td>\n",
       "      <td>64</td>\n",
       "    </tr>\n",
       "    <tr>\n",
       "      <th>4</th>\n",
       "      <td>Female</td>\n",
       "      <td>Home and lifestyle</td>\n",
       "      <td>79</td>\n",
       "    </tr>\n",
       "    <tr>\n",
       "      <th>5</th>\n",
       "      <td>Female</td>\n",
       "      <td>Sports and travel</td>\n",
       "      <td>88</td>\n",
       "    </tr>\n",
       "    <tr>\n",
       "      <th>6</th>\n",
       "      <td>Male</td>\n",
       "      <td>Electronic accessories</td>\n",
       "      <td>86</td>\n",
       "    </tr>\n",
       "    <tr>\n",
       "      <th>7</th>\n",
       "      <td>Male</td>\n",
       "      <td>Fashion accessories</td>\n",
       "      <td>82</td>\n",
       "    </tr>\n",
       "    <tr>\n",
       "      <th>8</th>\n",
       "      <td>Male</td>\n",
       "      <td>Food and beverages</td>\n",
       "      <td>84</td>\n",
       "    </tr>\n",
       "    <tr>\n",
       "      <th>9</th>\n",
       "      <td>Male</td>\n",
       "      <td>Health and beauty</td>\n",
       "      <td>88</td>\n",
       "    </tr>\n",
       "    <tr>\n",
       "      <th>10</th>\n",
       "      <td>Male</td>\n",
       "      <td>Home and lifestyle</td>\n",
       "      <td>81</td>\n",
       "    </tr>\n",
       "    <tr>\n",
       "      <th>11</th>\n",
       "      <td>Male</td>\n",
       "      <td>Sports and travel</td>\n",
       "      <td>78</td>\n",
       "    </tr>\n",
       "  </tbody>\n",
       "</table>\n",
       "</div>"
      ],
      "text/plain": [
       "    Gender            Product line  Quantity\n",
       "0   Female  Electronic accessories        84\n",
       "1   Female     Fashion accessories        96\n",
       "2   Female      Food and beverages        90\n",
       "3   Female       Health and beauty        64\n",
       "4   Female      Home and lifestyle        79\n",
       "5   Female       Sports and travel        88\n",
       "6     Male  Electronic accessories        86\n",
       "7     Male     Fashion accessories        82\n",
       "8     Male      Food and beverages        84\n",
       "9     Male       Health and beauty        88\n",
       "10    Male      Home and lifestyle        81\n",
       "11    Male       Sports and travel        78"
      ]
     },
     "execution_count": 60,
     "metadata": {},
     "output_type": "execute_result"
    }
   ],
   "source": [
    "# groupby gender dan product line untuk menghitung jumlah quantity\n",
    "product_quantity = data.groupby(['Gender', 'Product line']).count()['Quantity'].reset_index()\n",
    "product_quantity"
   ]
  },
  {
   "cell_type": "markdown",
   "metadata": {},
   "source": [
    "Menampilkan perbedaan quantity setiap product line antara perempuan dan laki-laki."
   ]
  },
  {
   "cell_type": "code",
   "execution_count": 61,
   "metadata": {},
   "outputs": [
    {
     "data": {
      "image/png": "[encoded data removed]",
      "text/plain": [
       "<Figure size 864x504 with 1 Axes>"
      ]
     },
     "metadata": {
      "needs_background": "light"
     },
     "output_type": "display_data"
    }
   ],
   "source": [
    "# membuat barchart secara horizontal\n",
    "plt.figure(figsize=(12,7))\n",
    "sns.barplot(x= product_quantity['Quantity'], \n",
    "            y=product_quantity['Product line'], \n",
    "            hue=product_quantity['Gender'], \n",
    "            palette=['pink','blue'])\n",
    "plt.title('Total Quantity Product line')\n",
    "plt.show()"
   ]
  },
  {
   "cell_type": "markdown",
   "metadata": {},
   "source": [
    "Dari barplot diatas dapat dilihat bahwa Perempuan paling banyak membeli produk Fashion accessories dan paling sedikit di Healt and beauty, sedangkan untuk laki-laki paling banyak membeli di Health and beauty dan paling sedikit pada Sports and travel."
   ]
  },
  {
   "cell_type": "markdown",
   "metadata": {},
   "source": [
    "### Visualisasi 4"
   ]
  },
  {
   "cell_type": "markdown",
   "metadata": {},
   "source": [
    "Jam berapa dalam sehari yang memiliki kunjungan customer terbanyak"
   ]
  },
  {
   "cell_type": "code",
   "execution_count": 62,
   "metadata": {},
   "outputs": [
    {
     "data": {
      "text/plain": [
       "array([13, 10, 20, 18, 14, 11, 17, 16, 19, 15, 12], dtype=int64)"
      ]
     },
     "execution_count": 62,
     "metadata": {},
     "output_type": "execute_result"
    }
   ],
   "source": [
    "# mengubah tipe data time\n",
    "data['Time'] = pd.to_datetime(data['Time'])\n",
    "data['Hour'] = (data['Time']).dt.hour\n",
    "data['Hour'].unique()"
   ]
  },
  {
   "cell_type": "code",
   "execution_count": 63,
   "metadata": {},
   "outputs": [],
   "source": [
    "# sort time sebagai index y\n",
    "time_qua = data.sort_values(by='Hour', ascending=True).groupby('Hour').sum()"
   ]
  },
  {
   "cell_type": "code",
   "execution_count": 64,
   "metadata": {},
   "outputs": [
    {
     "data": {
      "image/png": "[encoded data removed]",
      "text/plain": [
       "<Figure size 1368x360 with 1 Axes>"
      ]
     },
     "metadata": {
      "needs_background": "light"
     },
     "output_type": "display_data"
    }
   ],
   "source": [
    "# membuat plot dari jumlah customer\n",
    "fig, ax1 = plt.subplots(figsize=(19,5))\n",
    "plt.title('Jam kunjungan customer')\n",
    "time_qua['Quantity'].plot(kind='line', color='blue', ax=ax1)\n",
    "\n",
    "plt.show()"
   ]
  },
  {
   "cell_type": "markdown",
   "metadata": {},
   "source": [
    "Dari line chart jam kunjungan customer dapat dilihat bahwa pada jam rentang 19.00 memiliki kunjungan tertinggi, sedangkan kunjungan terendah pada rentang jam 17.00"
   ]
  },
  {
   "cell_type": "markdown",
   "metadata": {},
   "source": [
    "### Visualisasi 5"
   ]
  },
  {
   "cell_type": "markdown",
   "metadata": {},
   "source": [
    "Perbandingan jenis pembayaran yang digunakan Perempuan dan Laki-laki"
   ]
  },
  {
   "cell_type": "markdown",
   "metadata": {},
   "source": [
    "Female"
   ]
  },
  {
   "cell_type": "code",
   "execution_count": 65,
   "metadata": {},
   "outputs": [],
   "source": [
    "# filter gender = female\n",
    "female_pay = data[(data['Gender'] == 'Female')]['Payment'].value_counts()"
   ]
  },
  {
   "cell_type": "code",
   "execution_count": 66,
   "metadata": {},
   "outputs": [
    {
     "data": {
      "image/png": "[encoded data removed]",
      "text/plain": [
       "<Figure size 504x288 with 1 Axes>"
      ]
     },
     "metadata": {
      "needs_background": "light"
     },
     "output_type": "display_data"
    }
   ],
   "source": [
    "# bar plot\n",
    "female_pay.plot(kind='bar', color='pink', figsize=(7,4))\n",
    "plt.title('Female Payment')\n",
    "plt.xticks(rotation=0)\n",
    "plt.show()"
   ]
  },
  {
   "cell_type": "markdown",
   "metadata": {},
   "source": [
    "untuk perempuan lebih banyak menggunakan cash sebagai pembayaran dibandingkan metode lainnya."
   ]
  },
  {
   "cell_type": "markdown",
   "metadata": {},
   "source": [
    "Male"
   ]
  },
  {
   "cell_type": "code",
   "execution_count": 67,
   "metadata": {},
   "outputs": [],
   "source": [
    "# filter gender = female\n",
    "male_pay = data[(data['Gender'] == 'Male')]['Payment'].value_counts()"
   ]
  },
  {
   "cell_type": "code",
   "execution_count": 68,
   "metadata": {},
   "outputs": [
    {
     "data": {
      "image/png": "[encoded data removed]",
      "text/plain": [
       "<Figure size 504x288 with 1 Axes>"
      ]
     },
     "metadata": {
      "needs_background": "light"
     },
     "output_type": "display_data"
    }
   ],
   "source": [
    "# bar plot\n",
    "male_pay.plot(kind='bar', color='blue', figsize=(7,4))\n",
    "plt.title('Male Payment')\n",
    "plt.xticks(rotation=0)\n",
    "plt.show()"
   ]
  },
  {
   "cell_type": "markdown",
   "metadata": {},
   "source": [
    "Untuk Laki-laki lebih banyak menggunakan Ewallet sebagai pembayaran dibandingkan dengan credit card ataupun cash."
   ]
  },
  {
   "cell_type": "markdown",
   "metadata": {},
   "source": [
    "## Hypotesis Testing"
   ]
  },
  {
   "cell_type": "markdown",
   "metadata": {},
   "source": [
    "Dari dataset Supermarker Sales, kita ingin menguji apakah rata-rata Pendapatan harian dari suatu Kota berbeda secara signifikan atau tidak. Sampel yang akan diuji meggunakan Yangon dan Mandalay. Pengujian hipotesis dilakukan menggunakan Two Samples Independent Two Tailed test."
   ]
  },
  {
   "cell_type": "code",
   "execution_count": 69,
   "metadata": {},
   "outputs": [
    {
     "data": {
      "text/plain": [
       "array(['Yangon', 'Naypyitaw', 'Mandalay'], dtype=object)"
      ]
     },
     "execution_count": 69,
     "metadata": {},
     "output_type": "execute_result"
    }
   ],
   "source": [
    "# Melihat jenis kota yang ada didalam kolom City\n",
    "data['City'].unique()"
   ]
  },
  {
   "cell_type": "markdown",
   "metadata": {},
   "source": [
    "Sebelum melakukan pengujian hipotesis, dilakukan terlebih dahulu preprosessing data untuk melihat Rata-rata penghasilan harian dengan menggunakan query dan groupby."
   ]
  },
  {
   "cell_type": "markdown",
   "metadata": {},
   "source": [
    "Menghitung rata-rata pendapatan harian dari kota Yangon"
   ]
  },
  {
   "cell_type": "code",
   "execution_count": 70,
   "metadata": {},
   "outputs": [
    {
     "name": "stdout",
     "output_type": "stream",
     "text": [
      "Rata-rata pendapatan harian Yangon: 1136.0\n"
     ]
    }
   ],
   "source": [
    "# Sort berdasarkan kota Yangon\n",
    "daily_yangon = data[(data['City'] == 'Yangon')][['Date', 'income']].groupby('Date').sum()\n",
    "\n",
    "# Menampilkan hasil rata-rata pendapatan\n",
    "mean_yangon = np.round(daily_yangon['income'].mean())\n",
    "print('Rata-rata pendapatan harian Yangon:', mean_yangon)"
   ]
  },
  {
   "cell_type": "markdown",
   "metadata": {},
   "source": [
    "Mengitung rata-rata pendapatan harian kota Mandalay"
   ]
  },
  {
   "cell_type": "code",
   "execution_count": 71,
   "metadata": {},
   "outputs": [
    {
     "name": "stdout",
     "output_type": "stream",
     "text": [
      "Rata-rata pendapatan harian Mandalay: 1176.0\n"
     ]
    }
   ],
   "source": [
    "# Sort bersadarkan kota Mandalay\n",
    "daily_mandalay = data[(data['City'] == 'Mandalay')][['Date', 'income']].groupby('Date').sum()\n",
    "\n",
    "# Menmpilkan hasil rata-rata pendapatan\n",
    "mean_mandalay = np.round(daily_mandalay['income'].mean())\n",
    "print('Rata-rata pendapatan harian Mandalay:', mean_mandalay)"
   ]
  },
  {
   "cell_type": "markdown",
   "metadata": {},
   "source": [
    "Setelah menghitung rata-rata penghasilan harian, selanjutnya membuat hipotesis yang akan diuji.\n",
    "\n",
    "H0 adalah rata-rata pendapatan harian Yangon **tidak memiliki perbedaan yang signifikan** dengan rata-rata pendapatan harian Mandalay.\n",
    "- H0 : μ_yangon = μ_mandalay\n",
    "\n",
    "H1 adalah rata-rata pendapatan harian Yangon **memiliki perbedaan yang signifikan** dengan rata-rata pendapatan harian Mandalay.\n",
    "- H1 : μ_yangon != μ_mandalay\n",
    "\n",
    "Confident interval yang digunakan 95%, berarti alfa 0.05"
   ]
  },
  {
   "cell_type": "markdown",
   "metadata": {},
   "source": [
    "Menguji hipotesis menggunakan t-test independent karena sampel merupakan sampel yang independent(tidak berhubungan)."
   ]
  },
  {
   "cell_type": "code",
   "execution_count": 72,
   "metadata": {},
   "outputs": [
    {
     "name": "stdout",
     "output_type": "stream",
     "text": [
      "P-value: 0.7377341666768829\n",
      "t-statistics: -0.3353941180782607\n"
     ]
    }
   ],
   "source": [
    "# menguji hipotesis menggunakan t-test ind\n",
    "t_stat, p_val = stats.ttest_ind(daily_yangon, daily_mandalay)\n",
    "\n",
    "# melihat nilai p-value\n",
    "print('P-value:',p_val[0])\n",
    "\n",
    "# melihat nilai t-statistics\n",
    "print('t-statistics:',t_stat[0])"
   ]
  },
  {
   "cell_type": "markdown",
   "metadata": {},
   "source": [
    "Diperoleh nilai p-value = 0.7377341666768823 yang berarti nilai p-value lebih besar dari nilai alfa."
   ]
  },
  {
   "cell_type": "markdown",
   "metadata": {},
   "source": [
    "Visualisasi distribusi rata-rata pendapatan harian dari Yangon dan Mandalay."
   ]
  },
  {
   "cell_type": "markdown",
   "metadata": {},
   "source": [
    "Membuat distribusi normal dari Yangon dan Mandalay"
   ]
  },
  {
   "cell_type": "code",
   "execution_count": 73,
   "metadata": {},
   "outputs": [],
   "source": [
    "# Distribusi Yangon\n",
    "yangon = np.random.normal(daily_yangon.income.mean() , daily_yangon.income.std(),10000)\n",
    "# Distribusi Mandalay\n",
    "mandalay = np.random.normal(daily_mandalay.income.mean(),daily_mandalay.income.std(),10000)"
   ]
  },
  {
   "cell_type": "markdown",
   "metadata": {},
   "source": [
    "Membuat confident interval 95%"
   ]
  },
  {
   "cell_type": "code",
   "execution_count": 74,
   "metadata": {},
   "outputs": [],
   "source": [
    "ci = stats.norm.interval(0.95, daily_yangon.income.mean(), daily_yangon.income.std())"
   ]
  },
  {
   "cell_type": "markdown",
   "metadata": {},
   "source": [
    "Membuat batasan hipotesis alternatif dari Yangon"
   ]
  },
  {
   "cell_type": "code",
   "execution_count": 75,
   "metadata": {},
   "outputs": [],
   "source": [
    "alt_hipo1 = yangon.mean() + t_stat[0]*yangon.std()\n",
    "alt_hipo2 = yangon.mean() - t_stat[0]*yangon.std()"
   ]
  },
  {
   "cell_type": "markdown",
   "metadata": {},
   "source": [
    "Membuat plot distribusi normal"
   ]
  },
  {
   "cell_type": "code",
   "execution_count": 76,
   "metadata": {},
   "outputs": [
    {
     "name": "stderr",
     "output_type": "stream",
     "text": [
      "c:\\Users\\Hp\\anaconda3\\envs\\Hacktiv8\\lib\\site-packages\\seaborn\\distributions.py:2619: FutureWarning: `distplot` is a deprecated function and will be removed in a future version. Please adapt your code to use either `displot` (a figure-level function with similar flexibility) or `histplot` (an axes-level function for histograms).\n",
      "  warnings.warn(msg, FutureWarning)\n",
      "c:\\Users\\Hp\\anaconda3\\envs\\Hacktiv8\\lib\\site-packages\\seaborn\\distributions.py:2619: FutureWarning: `distplot` is a deprecated function and will be removed in a future version. Please adapt your code to use either `displot` (a figure-level function with similar flexibility) or `histplot` (an axes-level function for histograms).\n",
      "  warnings.warn(msg, FutureWarning)\n"
     ]
    },
    {
     "data": {
      "image/png": "[encoded data removed]",
      "text/plain": [
       "<Figure size 1368x360 with 1 Axes>"
      ]
     },
     "metadata": {
      "needs_background": "light"
     },
     "output_type": "display_data"
    }
   ],
   "source": [
    "# plot distribusi normal\n",
    "plt.figure(figsize=(19,5))\n",
    "sns.distplot(yangon, label='Rata-rata pendapatan harian Yangon',color='purple')\n",
    "sns.distplot(mandalay, label='Rata-rata pendapatan harian Mandalay',color='yellow')\n",
    "\n",
    "# mean dari Yangon dan Mandalay\n",
    "plt.axvline(mean_yangon, color='purple', linewidth=2, label='Yangon mean')\n",
    "plt.axvline(mean_mandalay, color='yellow',  linewidth=2, label='Mandalay mean')\n",
    "\n",
    "# garis confident interval 95%\n",
    "plt.axvline(ci[1], color='red', linestyle='dashed', linewidth=2, label='Confident interval 95%')\n",
    "plt.axvline(ci[0], color='red', linestyle='dashed', linewidth=2)\n",
    "\n",
    "# garis hipotesis alternatif\n",
    "plt.axvline(alt_hipo1, color='black', linestyle='dashed', linewidth=2, label = 'Hipotesis Alternatif')\n",
    "plt.axvline(alt_hipo2, color='black', linestyle='dashed', linewidth=2)\n",
    "\n",
    "plt.legend()\n",
    "plt.show()"
   ]
  },
  {
   "cell_type": "markdown",
   "metadata": {},
   "source": [
    "Dari visualisasi distribusi diatas dapat dilihat bahwa garis Hipotesis alternatif (black) berada didalam garis confident interval 95% (red) dan garis mean dari Yangon dan Mandalay saling berdekatan."
   ]
  },
  {
   "cell_type": "markdown",
   "metadata": {},
   "source": [
    "Berdasarkan perhitungan nilai p=value dan visualisasi distribusi dapat diketahui bahwa kita **fail to reject H0**. Artinya, rata-rata pendapatan harian Yangon dan Mandalay **tidak memiliki perbedaan yang signifikan**."
   ]
  },
  {
   "cell_type": "markdown",
   "metadata": {},
   "source": [
    "## Kesimpulan"
   ]
  },
  {
   "cell_type": "markdown",
   "metadata": {},
   "source": [
    "Dari eksplorasi dan pengujian hipotesis dataset Supermaket Sales diperoleh beberapa informasi sebagai berikut:\n",
    "\n",
    "- Visualisasi 1, dapat diketahui bahwa pendapatan supermarket setiap hari mengalami fluktuasi yang beragam. Pendapatan tertinggi di peroleh pada 9 Maret 2019 = 7118.14 dan terendah pada 13 Februari 2019 = 889.75.\n",
    "\n",
    "- Visualisasi 2, perbedaan jumlah produk line yang diminati setiap kota berbeda. Untuk kota Yangon produk yang paling banyak dibeli adalah Home and lifestyle dan paling sedikit adalah Healt and beauty. Di kota Mandalay ada 2 masing-masing produk yang paling banyak dibeli yaitu Fashion accessories dan Sports and travel, sedangkan yang paling sedikit yaitu Food and beverages dan Home and lifestyle. Di kota Naypyitaw yang paling banyak di beli adalah Food and beverages sedangkan ada 2 produk yang paling sedikit dibeli yaitu Home and lifestyle dan Sports and travel.\n",
    "\n",
    "- Visualisasi 3, Perbedaan quantity setiap product line yang dibeli oleh Perempuan dan laki-laki, bahwa Perempuan paling banyak membeli produk Fashion accessories dan paling sedikit di Healt and beauty, sedangkan untuk laki-laki paling banyak membeli di Health and beauty dan paling sedikit pada Sports and travel.\n",
    "\n",
    "- Visualisasi 4, Jam kujungan customer rentang 19.00 memiliki kunjungan tertinggi, sedangkan kunjungan terendah pada rentang jam 17.00. oleh karena itu pihak dari supermarket bisa menambahkan jumlah diskon atau promo pada jam 19.00 serta menambahkan pegawai agar customer tidak lama untuk mengantri.\n",
    "\n",
    "- Visualisasi 5, diketahui perempuan lebih sering menggunakan cash sedangkan laki-laki menggunakan Ewallet. untuk menarik perhatian customer perempuan atau laki-laki untuk menggunakan credit card, bisa menambahkan promo atau potongan jika payment dilakukan dengan debit card."
   ]
  },
  {
   "cell_type": "markdown",
   "metadata": {},
   "source": [
    "Pada pengujian hipotesis dilakukan pengujian untuk mengetahui apakah rata-rata Pendapatan harian dari suatu Kota berbeda secara signifikan atau tidak. Sampel yang akan diuji meggunakan Yangon dan Mandalay. Pengujian hipotesis dilakukan menggunakan Two Samples Independent Two Tailed test. Confident interval yang digunakan adalah 95%.\n",
    "\n",
    "Hasil yang diperoleh untuk nilai p-value = 0.7377 dan t-statistics =  -0.3354. Jadi p-value leboh besar dari nilai alfa(0.05). Dari visualisasi distribusi diatas dapat dilihat bahwa garis Hipotesis alternatif (black) berada didalam garis confident interval 95% (red) dan garis mean dari Yangon dan Mandalay saling berdekatan. Berdasarkan perhitungan nilai p=value dan visualisasi distribusi dapat diketahui bahwa kita **fail to reject H0**. Artinya, rata-rata pendapatan harian Yangon dan Mandalay **tidak memiliki perbedaan yang signifikan**."
   ]
  }
 ],
 "metadata": {
  "interpreter": {
   "hash": "a54bd86cef23b36acc3df4f8c80150d4c0f125cab32666339057296a4127bf9f"
  },
  "kernelspec": {
   "display_name": "Python 3.10.4",
   "language": "python",
   "name": "python3"
  },
  "language_info": {
   "codemirror_mode": {
    "name": "ipython",
    "version": 3
   },
   "file_extension": ".py",
   "mimetype": "text/x-python",
   "name": "python",
   "nbconvert_exporter": "python",
   "pygments_lexer": "ipython3",
   "version": "3.10.4"
  },
  "orig_nbformat": 4
 },
 "nbformat": 4,
 "nbformat_minor": 2
}
